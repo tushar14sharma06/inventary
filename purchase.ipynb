{
  "nbformat": 4,
  "nbformat_minor": 0,
  "metadata": {
    "colab": {
      "name": "purchase.ipynb",
      "provenance": [],
      "collapsed_sections": []
    },
    "kernelspec": {
      "name": "python3",
      "display_name": "Python 3"
    },
    "language_info": {
      "name": "python"
    }
  },
  "cells": [
    {
      "cell_type": "code",
      "metadata": {
        "colab": {
          "base_uri": "https://localhost:8080/"
        },
        "id": "7GIeKrncCQsm",
        "outputId": "a3a24fc2-147a-4883-af3e-7e9767e75f4a"
      },
      "source": [
        "import json ,datetime,pandas\n",
        "date=datetime.datetime.now()\n",
        "date=date.strftime('%c')\n",
        "with open('product.json') as json_file:\n",
        "    product_details = dict(json.load(json_file))\n",
        "again = 1    \n",
        "while again ==1:\n",
        "       for i in product_details:\n",
        "         print('id=',i)\n",
        "         print('product name = ',product_details[i]['product_name'], 'product Price = ',product_details[i]['price'], 'product Quantity = ',product_details[i]['quantity'])\n",
        "       productid =str(input(\" Enter product id : \"))\n",
        "       product_name = str(input(\"Enter product name: \"))    \n",
        "       product_price  = int(input(\"Enter product price: \"))\n",
        "       product_quantity   = int(input(\"Enter product quantity: \"))\n",
        "       product_warranty   = str(input(\"Enter product warranty yes or no: \"))\n",
        "       product_discount     = int(input(\"Enter product discount: \"))\n",
        "       product_type   = str(input(\"Enter product type: \"))   \n",
        "       product_details[productid] = {'product_name': product_name,'price': product_price, 'quantity': product_quantity , 'date': date, 'warranty': product_warranty, 'discount': product_discount, 'type': product_type}\n",
        "       print(\"Product successfully added\")\n",
        "       again= int(input(\"Enter 1 to insert another product else enter 0 :\"))\n",
        "js=json.dumps(product_details)\n",
        "fd=open('product.json','w')\n",
        "fd.write(js)\n",
        "fd.close()\n",
        "        \n"
      ],
      "execution_count": null,
      "outputs": [
        {
          "name": "stdout",
          "output_type": "stream",
          "text": [
            "id= 1001\n",
            "product name =  oneplus nord ce product Price =  23000 product Quantity =  45\n",
            "id= 1002\n",
            "product name =  macbook product Price =  99000 product Quantity =  45\n",
            "id= 1003\n",
            "product name =  Asus vivobook product Price =  45000 product Quantity =  45\n",
            "id= 1004\n",
            "product name =  Samsung Crystal 4K product Price =  50000 product Quantity =  30\n",
            "id= 1005\n",
            "product name =  Voltas 1 ton AC product Price =  24000 product Quantity =  45\n",
            "id= 1006\n",
            "product name =  LG refrigerator product Price =  40000 product Quantity =  45\n",
            "id= 1007\n",
            "product name =  Samsung Washing Machine product Price =  23000 product Quantity =  55\n",
            "id= 1008\n",
            "product name =  Maharaja Juicer product Price =  8000 product Quantity =  45\n",
            "id= 1009\n",
            "product name =  Prestige Induction product Price =  2500 product Quantity =  50\n",
            "id= 1010\n",
            "product name =  Haier Microwave product Price =  6900 product Quantity =  45\n",
            "id= 1011\n",
            "product name =  1kg ChanaDal packet  product Price =  80 product Quantity =  45\n",
            "id= 1012\n",
            "product name =   1kg MungDal packet product Price =  100 product Quantity =  45\n",
            "id= 1013\n",
            "product name =  1kg TuwarDal packet product Price =  110 product Quantity =  45\n",
            "id= 1014\n",
            "product name =  1kg oil product Price =  34 product Quantity =  140\n",
            "id= 1015\n",
            "product name =  1kg sugar packet product Price =  40 product Quantity =  45\n",
            "id= 1016\n",
            "product name =  250 gm Taj Tea packet product Price =  180 product Quantity =  45\n",
            "id= 1017\n",
            "product name =  1kg Almond packet product Price =  1050 product Quantity =  40\n",
            "id= 1018\n",
            "product name =  1kg Walnut packet product Price =  1600 product Quantity =  30\n",
            "id= 1019\n",
            "product name =  5kg Aashirwad Aata packet product Price =  300 product Quantity =  45\n",
            "id= 1020\n",
            "product name =  2kg tata namak product Price =  50 product Quantity =  50\n",
            "id= 1021\n",
            "product name =  notebook product Price =  60 product Quantity =  45\n",
            "id= 1022\n",
            "product name =  pencil(24) product Price =  120 product Quantity =  45\n",
            "id= 1023\n",
            "product name =  Watercolor product Price =  200 product Quantity =  45\n",
            "id= 1024\n",
            "product name =  Pen Packet product Price =  200 product Quantity =  45\n",
            "id= 1025\n",
            "product name =  Highlighters product Price =  70 product Quantity =  45\n",
            "id= 1026\n",
            "product name =  Sketch book product Price =  300 product Quantity =  45\n",
            "id= 1027\n",
            "product name =  Sketchcolor product Price =  150 product Quantity =  45\n",
            "id= 1028\n",
            "product name =  Geometry Box product Price =  120 product Quantity =  45\n",
            "id= 1029\n",
            "product name =  WaterBottle product Price =  180 product Quantity =  45\n",
            "id= 1030\n",
            "product name =  lunchbox product Price =  250 product Quantity =  45\n",
            "id= 1031\n",
            "product name =  Mug product Price =  80 product Quantity =  45\n",
            "id= 1032\n",
            "product name =  Chair product Price =  400 product Quantity =  45\n",
            "id= 1033\n",
            "product name =  Table product Price =  500 product Quantity =  45\n",
            "id= 1034\n",
            "product name =  Shoerack product Price =  600 product Quantity =  45\n",
            "id= 1035\n",
            "product name =  Studytable product Price =  500 product Quantity =  45\n",
            "id= 1036\n",
            "product name =  Mirror product Price =  460 product Quantity =  45\n",
            " Enter product id : 1009\n",
            "Enter product name: Amla\n",
            "Enter product price: 100\n",
            "Enter product quantity: 12\n",
            "Enter product warranty yes or no: no\n",
            "Enter product discount: 0\n",
            "Enter product type: grocery\n",
            "Product successfully added\n",
            "Enter 1 to insert another product else enter 0 :0\n"
          ]
        }
      ]
    },
    {
      "cell_type": "code",
      "metadata": {
        "id": "EGV-91f8CRg_"
      },
      "source": [
        ""
      ],
      "execution_count": null,
      "outputs": []
    }
  ]
}